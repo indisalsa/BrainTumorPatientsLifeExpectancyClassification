{
 "cells": [
  {
   "cell_type": "code",
   "execution_count": 1,
   "metadata": {},
   "outputs": [],
   "source": [
    "import time\n",
    "\n",
    "import pathlib\n",
    "\n",
    "import numpy as np\n",
    "import pandas as pd\n",
    "\n",
    "import tensorflow as tf\n",
    "import matplotlib.pyplot as plt\n",
    "from keras import Sequential\n",
    "from tensorflow.keras.models import Model\n",
    "from tensorflow.keras.layers import *\n",
    "from tensorflow.keras.optimizers import Adam\n",
    "from tensorflow.keras.applications.resnet_v2 import preprocess_input\n",
    "from tensorflow.keras.applications.mobilenet_v2 import preprocess_input\n",
    "from tensorflow.keras.preprocessing.image import img_to_array,  load_img\n",
    "\n",
    "from tensorflow.keras.applications import ResNet50V2\n",
    "from tensorflow.keras.applications.inception_resnet_v2 import InceptionResNetV2\n",
    "from tensorflow.keras.applications import MobileNetV2\n",
    "\n",
    "from sklearn.model_selection import train_test_split\n",
    "from sklearn.metrics import classification_report\n",
    "\n",
    "from imblearn.over_sampling import SMOTE\n",
    "\n",
    "from tensorflow.keras.utils import to_categorical\n",
    "from sklearn.preprocessing import LabelEncoder\n",
    "\n",
    "\n",
    "from IPython.display import display, Markdown"
   ]
  },
  {
   "cell_type": "markdown",
   "metadata": {},
   "source": [
    "## Pengaturan Hyperparameter dan Konfigurasi Model"
   ]
  },
  {
   "cell_type": "code",
   "execution_count": 2,
   "metadata": {},
   "outputs": [],
   "source": [
    "INIT_LR = 1e-4\n",
    "EPOCHS = 40\n",
    "BS = 1\n",
    "SIZE_X = 112\n",
    "SIZE_Y = 112\n",
    "IMG_CHANNELS = 3\n",
    "\n",
    "NETWORK = \"SPEoR_Tesis_Bismillah_ResNet50V2.1\"\n",
    "\n",
    "image_dataset = r\"C:\\Users\\Lab129\\Downloads\\Indi\\HasilSeg\"\n",
    "brats_id_offset = 2\n",
    "image_dataset_pattern = \"*/*\"\n",
    "sp_dataset = r\"C:\\Users\\Lab129\\Downloads\\Indi\\survival_info_final.csv\"\n",
    "grade_dataset = r\"C:\\Users\\Lab129\\Downloads\\Indi\\cla_112_mv_weighted31.csv\"\n",
    "model_path = NETWORK + \"_\" + str(EPOCHS) + \".model\""
   ]
  },
  {
   "cell_type": "markdown",
   "metadata": {},
   "source": [
    "## Pre-processing Data"
   ]
  },
  {
   "cell_type": "markdown",
   "metadata": {},
   "source": [
    "### Loading Dataframe"
   ]
  },
  {
   "cell_type": "code",
   "execution_count": 3,
   "metadata": {},
   "outputs": [
    {
     "name": "stdout",
     "output_type": "stream",
     "text": [
      "[INFO] loading dataframe...\n",
      "<class 'pandas.core.frame.DataFrame'>\n",
      "Int64Index: 369 entries, 0 to 368\n",
      "Data columns (total 5 columns):\n",
      " #   Column               Non-Null Count  Dtype   \n",
      "---  ------               --------------  -----   \n",
      " 0   Brats20ID            369 non-null    object  \n",
      " 1   Age                  369 non-null    float64 \n",
      " 2   Survival_categories  369 non-null    category\n",
      " 3   Extent_of_Resection  217 non-null    category\n",
      " 4   Grade                369 non-null    category\n",
      "dtypes: category(3), float64(1), object(1)\n",
      "memory usage: 10.1+ KB\n"
     ]
    },
    {
     "data": {
      "text/html": [
       "<div>\n",
       "<style scoped>\n",
       "    .dataframe tbody tr th:only-of-type {\n",
       "        vertical-align: middle;\n",
       "    }\n",
       "\n",
       "    .dataframe tbody tr th {\n",
       "        vertical-align: top;\n",
       "    }\n",
       "\n",
       "    .dataframe thead th {\n",
       "        text-align: right;\n",
       "    }\n",
       "</style>\n",
       "<table border=\"1\" class=\"dataframe\">\n",
       "  <thead>\n",
       "    <tr style=\"text-align: right;\">\n",
       "      <th></th>\n",
       "      <th>Brats20ID</th>\n",
       "      <th>Age</th>\n",
       "      <th>Survival_categories</th>\n",
       "      <th>Extent_of_Resection</th>\n",
       "      <th>Grade</th>\n",
       "    </tr>\n",
       "  </thead>\n",
       "  <tbody>\n",
       "    <tr>\n",
       "      <th>0</th>\n",
       "      <td>BraTS20_Training_001</td>\n",
       "      <td>60.463</td>\n",
       "      <td>Mid-survivors</td>\n",
       "      <td>GTR</td>\n",
       "      <td>HGG</td>\n",
       "    </tr>\n",
       "    <tr>\n",
       "      <th>1</th>\n",
       "      <td>BraTS20_Training_002</td>\n",
       "      <td>52.263</td>\n",
       "      <td>Long-survivors</td>\n",
       "      <td>GTR</td>\n",
       "      <td>HGG</td>\n",
       "    </tr>\n",
       "    <tr>\n",
       "      <th>2</th>\n",
       "      <td>BraTS20_Training_003</td>\n",
       "      <td>54.301</td>\n",
       "      <td>Mid-survivors</td>\n",
       "      <td>GTR</td>\n",
       "      <td>HGG</td>\n",
       "    </tr>\n",
       "    <tr>\n",
       "      <th>3</th>\n",
       "      <td>BraTS20_Training_004</td>\n",
       "      <td>39.068</td>\n",
       "      <td>Long-survivors</td>\n",
       "      <td>GTR</td>\n",
       "      <td>HGG</td>\n",
       "    </tr>\n",
       "    <tr>\n",
       "      <th>4</th>\n",
       "      <td>BraTS20_Training_005</td>\n",
       "      <td>68.493</td>\n",
       "      <td>Mid-survivors</td>\n",
       "      <td>GTR</td>\n",
       "      <td>HGG</td>\n",
       "    </tr>\n",
       "  </tbody>\n",
       "</table>\n",
       "</div>"
      ],
      "text/plain": [
       "              Brats20ID     Age Survival_categories Extent_of_Resection Grade\n",
       "0  BraTS20_Training_001  60.463       Mid-survivors                 GTR   HGG\n",
       "1  BraTS20_Training_002  52.263      Long-survivors                 GTR   HGG\n",
       "2  BraTS20_Training_003  54.301       Mid-survivors                 GTR   HGG\n",
       "3  BraTS20_Training_004  39.068      Long-survivors                 GTR   HGG\n",
       "4  BraTS20_Training_005  68.493       Mid-survivors                 GTR   HGG"
      ]
     },
     "metadata": {},
     "output_type": "display_data"
    },
    {
     "data": {
      "text/plain": [
       "Long-survivors     196\n",
       "Mid-survivors       96\n",
       "Short-survivors     77\n",
       "Name: Survival_categories, dtype: int64"
      ]
     },
     "metadata": {},
     "output_type": "display_data"
    },
    {
     "data": {
      "text/plain": [
       "GTR    165\n",
       "STR     52\n",
       "Name: Extent_of_Resection, dtype: int64"
      ]
     },
     "metadata": {},
     "output_type": "display_data"
    }
   ],
   "source": [
    "pathimage = pathlib.Path(image_dataset)\n",
    "\n",
    "print(\"[INFO] loading dataframe...\")\n",
    "df = pd.read_csv(sp_dataset)\n",
    "cla_df = pd.read_csv(grade_dataset)\n",
    "\n",
    "# Set datatypes\n",
    "df[\"Brats20ID\"] = df[\"Brats20ID\"].astype('string')\n",
    "df[\"Survival_categories\"] = df[\"Survival_categories\"].astype('category')\n",
    "df[\"Extent_of_Resection\"] = df[\"Extent_of_Resection\"].astype('category')\n",
    "cla_df[\"Grade\"] = cla_df[\"Grade\"].astype('category')\n",
    "\n",
    "# Put grade in cla_df into df by Brats20ID\n",
    "df = pd.merge(df, cla_df, left_on='Brats20ID', right_on='BraTS_2020_subject_ID')\n",
    "df.drop(columns=['BraTS_2020_subject_ID'], inplace=True)\n",
    "\n",
    "df.info()\n",
    "display(df.head(), df[\"Survival_categories\"].value_counts(), df[\"Extent_of_Resection\"].value_counts())"
   ]
  },
  {
   "cell_type": "code",
   "execution_count": 4,
   "metadata": {},
   "outputs": [
    {
     "data": {
      "text/plain": [
       "(Index(['Long-survivors', 'Mid-survivors', 'Short-survivors'], dtype='object'),\n",
       " array([0, 1, 2], dtype=int8))"
      ]
     },
     "execution_count": 4,
     "metadata": {},
     "output_type": "execute_result"
    }
   ],
   "source": [
    "df[\"Survival_categories\"].cat.categories, np.unique(df[\"Survival_categories\"].cat.codes)"
   ]
  },
  {
   "cell_type": "code",
   "execution_count": 5,
   "metadata": {},
   "outputs": [],
   "source": [
    "# df_show = df.copy()\n",
    "# df_show[\"label_code\"] = df_show[\"Survival_categories\"].cat.codes\n",
    "# display(df_show.groupby(\"Survival_categories\", group_keys=True).apply(lambda x: x.sample(3)))\n",
    "# del df_show"
   ]
  },
  {
   "cell_type": "markdown",
   "metadata": {},
   "source": [
    "### Class Imbalance"
   ]
  },
  {
   "cell_type": "code",
   "execution_count": 6,
   "metadata": {},
   "outputs": [
    {
     "data": {
      "text/plain": [
       "Long-survivors     196\n",
       "Mid-survivors       96\n",
       "Short-survivors     77\n",
       "Name: Survival_categories, dtype: int64"
      ]
     },
     "metadata": {},
     "output_type": "display_data"
    }
   ],
   "source": [
    "# Check for class imbalance\n",
    "class_count = df[\"Survival_categories\"].value_counts()\n",
    "display(class_count)"
   ]
  },
  {
   "cell_type": "markdown",
   "metadata": {},
   "source": [
    "####  Oversampling Class (SMOTE)"
   ]
  },
  {
   "cell_type": "code",
   "execution_count": 7,
   "metadata": {},
   "outputs": [
    {
     "name": "stdout",
     "output_type": "stream",
     "text": [
      "<class 'pandas.core.frame.DataFrame'>\n",
      "Int64Index: 588 entries, 0 to 178\n",
      "Data columns (total 5 columns):\n",
      " #   Column               Non-Null Count  Dtype   \n",
      "---  ------               --------------  -----   \n",
      " 0   Brats20ID            588 non-null    object  \n",
      " 1   Age                  588 non-null    float64 \n",
      " 2   Survival_categories  588 non-null    category\n",
      " 3   Extent_of_Resection  331 non-null    category\n",
      " 4   Grade                588 non-null    category\n",
      "dtypes: category(3), float64(1), object(1)\n",
      "memory usage: 15.9+ KB\n"
     ]
    },
    {
     "data": {
      "text/html": [
       "<div>\n",
       "<style scoped>\n",
       "    .dataframe tbody tr th:only-of-type {\n",
       "        vertical-align: middle;\n",
       "    }\n",
       "\n",
       "    .dataframe tbody tr th {\n",
       "        vertical-align: top;\n",
       "    }\n",
       "\n",
       "    .dataframe thead th {\n",
       "        text-align: right;\n",
       "    }\n",
       "</style>\n",
       "<table border=\"1\" class=\"dataframe\">\n",
       "  <thead>\n",
       "    <tr style=\"text-align: right;\">\n",
       "      <th></th>\n",
       "      <th>Brats20ID</th>\n",
       "      <th>Age</th>\n",
       "      <th>Survival_categories</th>\n",
       "      <th>Extent_of_Resection</th>\n",
       "      <th>Grade</th>\n",
       "    </tr>\n",
       "  </thead>\n",
       "  <tbody>\n",
       "    <tr>\n",
       "      <th>0</th>\n",
       "      <td>BraTS20_Training_001</td>\n",
       "      <td>60.463</td>\n",
       "      <td>Mid-survivors</td>\n",
       "      <td>GTR</td>\n",
       "      <td>HGG</td>\n",
       "    </tr>\n",
       "    <tr>\n",
       "      <th>1</th>\n",
       "      <td>BraTS20_Training_002</td>\n",
       "      <td>52.263</td>\n",
       "      <td>Long-survivors</td>\n",
       "      <td>GTR</td>\n",
       "      <td>HGG</td>\n",
       "    </tr>\n",
       "    <tr>\n",
       "      <th>2</th>\n",
       "      <td>BraTS20_Training_003</td>\n",
       "      <td>54.301</td>\n",
       "      <td>Mid-survivors</td>\n",
       "      <td>GTR</td>\n",
       "      <td>HGG</td>\n",
       "    </tr>\n",
       "    <tr>\n",
       "      <th>3</th>\n",
       "      <td>BraTS20_Training_004</td>\n",
       "      <td>39.068</td>\n",
       "      <td>Long-survivors</td>\n",
       "      <td>GTR</td>\n",
       "      <td>HGG</td>\n",
       "    </tr>\n",
       "    <tr>\n",
       "      <th>4</th>\n",
       "      <td>BraTS20_Training_005</td>\n",
       "      <td>68.493</td>\n",
       "      <td>Mid-survivors</td>\n",
       "      <td>GTR</td>\n",
       "      <td>HGG</td>\n",
       "    </tr>\n",
       "  </tbody>\n",
       "</table>\n",
       "</div>"
      ],
      "text/plain": [
       "              Brats20ID     Age Survival_categories Extent_of_Resection Grade\n",
       "0  BraTS20_Training_001  60.463       Mid-survivors                 GTR   HGG\n",
       "1  BraTS20_Training_002  52.263      Long-survivors                 GTR   HGG\n",
       "2  BraTS20_Training_003  54.301       Mid-survivors                 GTR   HGG\n",
       "3  BraTS20_Training_004  39.068      Long-survivors                 GTR   HGG\n",
       "4  BraTS20_Training_005  68.493       Mid-survivors                 GTR   HGG"
      ]
     },
     "metadata": {},
     "output_type": "display_data"
    },
    {
     "data": {
      "text/plain": [
       "Long-survivors     246\n",
       "Short-survivors    172\n",
       "Mid-survivors      170\n",
       "Name: Survival_categories, dtype: int64"
      ]
     },
     "metadata": {},
     "output_type": "display_data"
    }
   ],
   "source": [
    "sm = SMOTE(random_state=42)\n",
    "\n",
    "# Resample the dataset by index\n",
    "X_res, _ = sm.fit_resample(df.index.values.reshape(-1, 1), df[\"Survival_categories\"].cat.codes.values)\n",
    "\n",
    "# Create a new dataframe\n",
    "df_res = df.iloc[X_res.flatten()].copy()\n",
    "\n",
    "df_res.info()\n",
    "display(df_res.head(), df_res[\"Survival_categories\"].value_counts())"
   ]
  },
  {
   "cell_type": "markdown",
   "metadata": {},
   "source": [
    "### One Hot Encoding Label"
   ]
  },
  {
   "cell_type": "code",
   "execution_count": 8,
   "metadata": {},
   "outputs": [],
   "source": [
    "label_encoder = LabelEncoder()\n",
    "label_encoded = label_encoder.fit_transform(df_res[\"Survival_categories\"])\n",
    "label_one_hot_encoded = to_categorical(label_encoded)"
   ]
  },
  {
   "cell_type": "markdown",
   "metadata": {},
   "source": [
    "### Encoding Grade"
   ]
  },
  {
   "cell_type": "code",
   "execution_count": 17,
   "metadata": {},
   "outputs": [
    {
     "data": {
      "text/plain": [
       "(Index(['HGG', 'LGG'], dtype='object'), array([0, 1], dtype=int8))"
      ]
     },
     "execution_count": 17,
     "metadata": {},
     "output_type": "execute_result"
    }
   ],
   "source": [
    "df[\"Grade\"].cat.categories, df[\"Grade\"].cat.codes.unique()"
   ]
  },
  {
   "cell_type": "code",
   "execution_count": 18,
   "metadata": {},
   "outputs": [
    {
     "name": "stderr",
     "output_type": "stream",
     "text": [
      "C:\\Users\\Lab129\\AppData\\Local\\Temp\\ipykernel_18400\\3392921298.py:3: SettingWithCopyWarning: \n",
      "A value is trying to be set on a copy of a slice from a DataFrame.\n",
      "Try using .loc[row_indexer,col_indexer] = value instead\n",
      "\n",
      "See the caveats in the documentation: https://pandas.pydata.org/pandas-docs/stable/user_guide/indexing.html#returning-a-view-versus-a-copy\n",
      "  df_res[\"grade_code\"] = grade_encoded\n"
     ]
    }
   ],
   "source": [
    "grade_encoder = LabelEncoder()\n",
    "grade_encoded = grade_encoder.fit_transform(df_res[\"Grade\"])\n",
    "df_res[\"grade_code\"] = grade_encoded"
   ]
  },
  {
   "cell_type": "markdown",
   "metadata": {},
   "source": [
    "### Encoding Extent of Resection"
   ]
  },
  {
   "cell_type": "code",
   "execution_count": 11,
   "metadata": {},
   "outputs": [
    {
     "data": {
      "text/plain": [
       "(Index(['GTR', 'STR'], dtype='object'), array([ 0, -1,  1], dtype=int8))"
      ]
     },
     "execution_count": 11,
     "metadata": {},
     "output_type": "execute_result"
    }
   ],
   "source": [
    "df[\"Extent_of_Resection\"].cat.categories, df[\"Extent_of_Resection\"].cat.codes.unique()"
   ]
  },
  {
   "cell_type": "code",
   "execution_count": 12,
   "metadata": {},
   "outputs": [
    {
     "name": "stderr",
     "output_type": "stream",
     "text": [
      "C:\\Users\\Lab129\\AppData\\Local\\Temp\\ipykernel_18400\\1560814556.py:4: SettingWithCopyWarning: \n",
      "A value is trying to be set on a copy of a slice from a DataFrame.\n",
      "Try using .loc[row_indexer,col_indexer] = value instead\n",
      "\n",
      "See the caveats in the documentation: https://pandas.pydata.org/pandas-docs/stable/user_guide/indexing.html#returning-a-view-versus-a-copy\n",
      "  df_res[\"eor_code\"] = extent_encoded\n"
     ]
    }
   ],
   "source": [
    "df_res = df.iloc[X_res.flatten()]\n",
    "extent_encoder = LabelEncoder()\n",
    "extent_encoded = extent_encoder.fit_transform(df_res[\"Extent_of_Resection\"])\n",
    "df_res[\"eor_code\"] = extent_encoded"
   ]
  },
  {
   "cell_type": "markdown",
   "metadata": {},
   "source": [
    "### Loading Images"
   ]
  },
  {
   "cell_type": "code",
   "execution_count": 13,
   "metadata": {},
   "outputs": [
    {
     "name": "stdout",
     "output_type": "stream",
     "text": [
      "[INFO] loading images...\n",
      "<class 'pandas.core.frame.DataFrame'>\n",
      "RangeIndex: 47232 entries, 0 to 47231\n",
      "Data columns (total 2 columns):\n",
      " #   Column     Non-Null Count  Dtype \n",
      "---  ------     --------------  ----- \n",
      " 0   Brats20ID  47232 non-null  string\n",
      " 1   image      47232 non-null  string\n",
      "dtypes: string(2)\n",
      "memory usage: 738.1 KB\n"
     ]
    },
    {
     "data": {
      "text/html": [
       "<div>\n",
       "<style scoped>\n",
       "    .dataframe tbody tr th:only-of-type {\n",
       "        vertical-align: middle;\n",
       "    }\n",
       "\n",
       "    .dataframe tbody tr th {\n",
       "        vertical-align: top;\n",
       "    }\n",
       "\n",
       "    .dataframe thead th {\n",
       "        text-align: right;\n",
       "    }\n",
       "</style>\n",
       "<table border=\"1\" class=\"dataframe\">\n",
       "  <thead>\n",
       "    <tr style=\"text-align: right;\">\n",
       "      <th></th>\n",
       "      <th>Brats20ID</th>\n",
       "      <th>image</th>\n",
       "    </tr>\n",
       "  </thead>\n",
       "  <tbody>\n",
       "    <tr>\n",
       "      <th>0</th>\n",
       "      <td>BraTS20_Training_001</td>\n",
       "      <td>C:\\Users\\Lab129\\Downloads\\Indi\\HasilSeg\\BraTS2...</td>\n",
       "    </tr>\n",
       "    <tr>\n",
       "      <th>1</th>\n",
       "      <td>BraTS20_Training_001</td>\n",
       "      <td>C:\\Users\\Lab129\\Downloads\\Indi\\HasilSeg\\BraTS2...</td>\n",
       "    </tr>\n",
       "    <tr>\n",
       "      <th>2</th>\n",
       "      <td>BraTS20_Training_001</td>\n",
       "      <td>C:\\Users\\Lab129\\Downloads\\Indi\\HasilSeg\\BraTS2...</td>\n",
       "    </tr>\n",
       "    <tr>\n",
       "      <th>3</th>\n",
       "      <td>BraTS20_Training_001</td>\n",
       "      <td>C:\\Users\\Lab129\\Downloads\\Indi\\HasilSeg\\BraTS2...</td>\n",
       "    </tr>\n",
       "    <tr>\n",
       "      <th>4</th>\n",
       "      <td>BraTS20_Training_001</td>\n",
       "      <td>C:\\Users\\Lab129\\Downloads\\Indi\\HasilSeg\\BraTS2...</td>\n",
       "    </tr>\n",
       "  </tbody>\n",
       "</table>\n",
       "</div>"
      ],
      "text/plain": [
       "              Brats20ID                                              image\n",
       "0  BraTS20_Training_001  C:\\Users\\Lab129\\Downloads\\Indi\\HasilSeg\\BraTS2...\n",
       "1  BraTS20_Training_001  C:\\Users\\Lab129\\Downloads\\Indi\\HasilSeg\\BraTS2...\n",
       "2  BraTS20_Training_001  C:\\Users\\Lab129\\Downloads\\Indi\\HasilSeg\\BraTS2...\n",
       "3  BraTS20_Training_001  C:\\Users\\Lab129\\Downloads\\Indi\\HasilSeg\\BraTS2...\n",
       "4  BraTS20_Training_001  C:\\Users\\Lab129\\Downloads\\Indi\\HasilSeg\\BraTS2..."
      ]
     },
     "metadata": {},
     "output_type": "display_data"
    },
    {
     "name": "stderr",
     "output_type": "stream",
     "text": [
      "C:\\Users\\Lab129\\AppData\\Local\\Temp\\ipykernel_18400\\2001165535.py:17: SettingWithCopyWarning: \n",
      "A value is trying to be set on a copy of a slice from a DataFrame.\n",
      "Try using .loc[row_indexer,col_indexer] = value instead\n",
      "\n",
      "See the caveats in the documentation: https://pandas.pydata.org/pandas-docs/stable/user_guide/indexing.html#returning-a-view-versus-a-copy\n",
      "  df_res[\"images\"] = df_res[\"Brats20ID\"].map(df_img.groupby(\"Brats20ID\")[\"image\"].apply(list))\n"
     ]
    },
    {
     "data": {
      "text/html": [
       "<div>\n",
       "<style scoped>\n",
       "    .dataframe tbody tr th:only-of-type {\n",
       "        vertical-align: middle;\n",
       "    }\n",
       "\n",
       "    .dataframe tbody tr th {\n",
       "        vertical-align: top;\n",
       "    }\n",
       "\n",
       "    .dataframe thead th {\n",
       "        text-align: right;\n",
       "    }\n",
       "</style>\n",
       "<table border=\"1\" class=\"dataframe\">\n",
       "  <thead>\n",
       "    <tr style=\"text-align: right;\">\n",
       "      <th></th>\n",
       "      <th>Brats20ID</th>\n",
       "      <th>Age</th>\n",
       "      <th>Survival_categories</th>\n",
       "      <th>Extent_of_Resection</th>\n",
       "      <th>Grade</th>\n",
       "      <th>eor_code</th>\n",
       "      <th>images</th>\n",
       "    </tr>\n",
       "  </thead>\n",
       "  <tbody>\n",
       "    <tr>\n",
       "      <th>0</th>\n",
       "      <td>BraTS20_Training_001</td>\n",
       "      <td>60.463</td>\n",
       "      <td>Mid-survivors</td>\n",
       "      <td>GTR</td>\n",
       "      <td>HGG</td>\n",
       "      <td>0</td>\n",
       "      <td>[C:\\Users\\Lab129\\Downloads\\Indi\\HasilSeg\\BraTS...</td>\n",
       "    </tr>\n",
       "    <tr>\n",
       "      <th>1</th>\n",
       "      <td>BraTS20_Training_002</td>\n",
       "      <td>52.263</td>\n",
       "      <td>Long-survivors</td>\n",
       "      <td>GTR</td>\n",
       "      <td>HGG</td>\n",
       "      <td>0</td>\n",
       "      <td>[C:\\Users\\Lab129\\Downloads\\Indi\\HasilSeg\\BraTS...</td>\n",
       "    </tr>\n",
       "    <tr>\n",
       "      <th>2</th>\n",
       "      <td>BraTS20_Training_003</td>\n",
       "      <td>54.301</td>\n",
       "      <td>Mid-survivors</td>\n",
       "      <td>GTR</td>\n",
       "      <td>HGG</td>\n",
       "      <td>0</td>\n",
       "      <td>[C:\\Users\\Lab129\\Downloads\\Indi\\HasilSeg\\BraTS...</td>\n",
       "    </tr>\n",
       "    <tr>\n",
       "      <th>3</th>\n",
       "      <td>BraTS20_Training_004</td>\n",
       "      <td>39.068</td>\n",
       "      <td>Long-survivors</td>\n",
       "      <td>GTR</td>\n",
       "      <td>HGG</td>\n",
       "      <td>0</td>\n",
       "      <td>[C:\\Users\\Lab129\\Downloads\\Indi\\HasilSeg\\BraTS...</td>\n",
       "    </tr>\n",
       "    <tr>\n",
       "      <th>4</th>\n",
       "      <td>BraTS20_Training_005</td>\n",
       "      <td>68.493</td>\n",
       "      <td>Mid-survivors</td>\n",
       "      <td>GTR</td>\n",
       "      <td>HGG</td>\n",
       "      <td>0</td>\n",
       "      <td>[C:\\Users\\Lab129\\Downloads\\Indi\\HasilSeg\\BraTS...</td>\n",
       "    </tr>\n",
       "  </tbody>\n",
       "</table>\n",
       "</div>"
      ],
      "text/plain": [
       "              Brats20ID     Age Survival_categories Extent_of_Resection Grade  \\\n",
       "0  BraTS20_Training_001  60.463       Mid-survivors                 GTR   HGG   \n",
       "1  BraTS20_Training_002  52.263      Long-survivors                 GTR   HGG   \n",
       "2  BraTS20_Training_003  54.301       Mid-survivors                 GTR   HGG   \n",
       "3  BraTS20_Training_004  39.068      Long-survivors                 GTR   HGG   \n",
       "4  BraTS20_Training_005  68.493       Mid-survivors                 GTR   HGG   \n",
       "\n",
       "   eor_code                                             images  \n",
       "0         0  [C:\\Users\\Lab129\\Downloads\\Indi\\HasilSeg\\BraTS...  \n",
       "1         0  [C:\\Users\\Lab129\\Downloads\\Indi\\HasilSeg\\BraTS...  \n",
       "2         0  [C:\\Users\\Lab129\\Downloads\\Indi\\HasilSeg\\BraTS...  \n",
       "3         0  [C:\\Users\\Lab129\\Downloads\\Indi\\HasilSeg\\BraTS...  \n",
       "4         0  [C:\\Users\\Lab129\\Downloads\\Indi\\HasilSeg\\BraTS...  "
      ]
     },
     "metadata": {},
     "output_type": "display_data"
    }
   ],
   "source": [
    "print(\"[INFO] loading images...\")\n",
    "# List all the files in the directory\n",
    "pathimage = pathlib.Path(image_dataset)\n",
    "\n",
    "df_img = pd.DataFrame(columns=[\"Brats20ID\", \"image\"])\n",
    "\n",
    "imgIter = pathimage.glob(image_dataset_pattern)\n",
    "\n",
    "df_img[\"image\"] = [str(x) for x in imgIter]\n",
    "df_img[\"Brats20ID\"] = df_img[\"image\"].apply(lambda x: x.split(\"\\\\\")[-brats_id_offset])\n",
    "\n",
    "df_img[\"Brats20ID\"] = df_img[\"Brats20ID\"].astype('string')\n",
    "df_img[\"image\"] = df_img[\"image\"].astype('string')\n",
    "df_img.info()\n",
    "display(df_img.head())\n",
    "\n",
    "df_res[\"images\"] = df_res[\"Brats20ID\"].map(df_img.groupby(\"Brats20ID\")[\"image\"].apply(list))\n",
    "display(df_res.head())"
   ]
  },
  {
   "cell_type": "code",
   "execution_count": 14,
   "metadata": {},
   "outputs": [],
   "source": [
    "# df_res[\"images\"][0]"
   ]
  },
  {
   "cell_type": "code",
   "execution_count": 15,
   "metadata": {},
   "outputs": [],
   "source": [
    "def image_reader(path: str):\n",
    "    image = tf.io.read_file(path)\n",
    "    image = tf.image.decode_image(image, channels=IMG_CHANNELS,expand_animations=False)\n",
    "    image = tf.image.resize(image, [SIZE_X, SIZE_Y])\n",
    "    image = preprocess_input(image)\n",
    "    return image\n",
    "\n",
    "def np_data_generator(dataframe: dict[str, np.ndarray], label: np.ndarray):\n",
    "    images = np.array(\n",
    "        [\n",
    "            [\n",
    "                image_reader(x)\n",
    "                for x in i\n",
    "            ]\n",
    "            for i in dataframe[\"images\"]\n",
    "        ]\n",
    "    )\n",
    "    return images, dataframe[\"Age\"], dataframe[\"eor_code\"], label\n",
    "\n",
    "def tf_data_generator(dataframe: dict[str, tf.Tensor], label: tf.Tensor):\n",
    "    images = tf.map_fn(\n",
    "        image_reader,\n",
    "        dataframe[\"images\"],\n",
    "        fn_output_signature=tf.TensorSpec(\n",
    "            shape=(SIZE_X, SIZE_Y, IMG_CHANNELS), dtype=tf.float32\n",
    "        ),\n",
    "    )\n",
    "    return {\n",
    "        'images_input': images,\n",
    "        'age_input': dataframe[\"Age\"],\n",
    "        'eor_input': dataframe[\"eor_code\"],\n",
    "        'grade_input': dataframe[\"grade_code\"]\n",
    "    }, label"
   ]
  },
  {
   "cell_type": "markdown",
   "metadata": {},
   "source": [
    "### Test-train Split"
   ]
  },
  {
   "cell_type": "code",
   "execution_count": 19,
   "metadata": {},
   "outputs": [
    {
     "data": {
      "text/markdown": [
       "**Train images count**: 470\n",
       "\n",
       "**Test images count**: 118"
      ],
      "text/plain": [
       "<IPython.core.display.Markdown object>"
      ]
     },
     "metadata": {},
     "output_type": "display_data"
    }
   ],
   "source": [
    "# Get Brats20ID\tAge\tSurvival_categories\tExtent_of_Resection columns\n",
    "features = [\"images\", \"grade_code\", \"Age\", \"eor_code\"]\n",
    "X_df_train, X_df_test, y_train, y_test = train_test_split(\n",
    "    df_res[features],\n",
    "    label_one_hot_encoded,\n",
    "    test_size=0.20, random_state=42, stratify=df_res[\"Survival_categories\"]\n",
    ")\n",
    "X_train = {key: X_df_train[key].tolist() for key in X_df_train}\n",
    "X_test = {key: X_df_test[key].tolist() for key in X_df_test}\n",
    "display(Markdown((\n",
    "    f\"**Train images count**: {len(X_df_train)}\\n\\n\"\n",
    "    f\"**Test images count**: {len(X_df_test)}\"\n",
    ")))"
   ]
  },
  {
   "cell_type": "code",
   "execution_count": 20,
   "metadata": {},
   "outputs": [],
   "source": [
    "train_total_items = len(y_train)\n",
    "train_num_batches = train_total_items // BS\n",
    "\n",
    "train_dataset = (\n",
    "    tf.data.Dataset.from_tensor_slices((X_train, y_train))\n",
    "    .map(tf_data_generator, num_parallel_calls=tf.data.AUTOTUNE)\n",
    "    .batch(BS)\n",
    "    .repeat(EPOCHS)\n",
    "    .prefetch(tf.data.AUTOTUNE)\n",
    "    .shuffle(train_total_items)\n",
    ")\n",
    "val_total_items = len(y_test)\n",
    "val_num_batches = val_total_items // BS\n",
    "val_dataset = (\n",
    "    tf.data.Dataset.from_tensor_slices((X_test, y_test))\n",
    "    .map(tf_data_generator, num_parallel_calls=tf.data.AUTOTUNE)\n",
    "    .batch(BS)\n",
    "    .prefetch(tf.data.AUTOTUNE)\n",
    ")"
   ]
  },
  {
   "cell_type": "markdown",
   "metadata": {},
   "source": [
    "## Pengembangan Model"
   ]
  },
  {
   "cell_type": "code",
   "execution_count": 21,
   "metadata": {
    "scrolled": true
   },
   "outputs": [],
   "source": [
    "starttime = time.time()\n",
    "\n",
    "def model_definition(name: str = None):\n",
    "    # Define the input layers\n",
    "    inputAge = Input(shape=(1,), name=\"age_input\")\n",
    "    inputEor = Input(shape=(1,), name=\"eor_input\")\n",
    "    inputGrade = Input(shape=(1,), name=\"grade_input\")\n",
    "    inputImages = Input(shape=(None, SIZE_X, SIZE_Y, IMG_CHANNELS), name=\"images_input\")\n",
    "\n",
    "    inputCSVdata = [inputAge, inputEor, inputGrade]\n",
    "    inputs = [inputImages, *inputCSVdata]\n",
    "\n",
    "    # Process structured data inputs\n",
    "    CSV_data_branches = []\n",
    "    for inputLayer in inputCSVdata:\n",
    "        x = Dense(512, activation='relu', name=f\"{inputLayer.name}_dense_512\")(inputLayer)\n",
    "        x = Dense(128, activation='relu', name=f\"{inputLayer.name}_dense_128\")(x)\n",
    "        x = Dense(64, activation='relu', name=f\"{inputLayer.name}_dense_64\")(x)\n",
    "        CSV_data_branches.append(x)\n",
    "\n",
    "    # Load the pre-trained ResNet50V2 model\n",
    "    base_model = ResNet50V2(weights=\"imagenet\", include_top=False, input_shape=(SIZE_X, SIZE_Y, IMG_CHANNELS))\n",
    "    base_model.trainable = False\n",
    "\n",
    "    # Process image inputs\n",
    "    image_layer = TimeDistributed(base_model)(inputImages)\n",
    "    image_layer = TimeDistributed(GlobalAveragePooling2D())(image_layer)\n",
    "    image_layer = TimeDistributed(Flatten())(image_layer)\n",
    "    image_layer = SimpleRNN(128)(image_layer)\n",
    "    image_layer = Dense(512, activation='relu')(image_layer)\n",
    "    image_layer = Dense(128, activation='relu')(image_layer) \n",
    "    image_layer = Dense(64, activation='relu')(image_layer)\n",
    "\n",
    "    # Merge all features\n",
    "    merged = concatenate([image_layer, *CSV_data_branches], axis=-1, name=\"merged_features\")\n",
    "\n",
    "    # Output layer\n",
    "    outputs = Dense(3, activation='softmax')(merged)\n",
    "\n",
    "    return Model(inputs=inputs, outputs=outputs)\n",
    "\n",
    "model = model_definition()\n",
    "# model.summary()"
   ]
  },
  {
   "cell_type": "code",
   "execution_count": 22,
   "metadata": {},
   "outputs": [
    {
     "name": "stdout",
     "output_type": "stream",
     "text": [
      "[INFO] compiling model...\n"
     ]
    }
   ],
   "source": [
    "print(\"[INFO] compiling model...\")\n",
    "opt = Adam(learning_rate=INIT_LR, decay=INIT_LR / EPOCHS)\n",
    "tf.config.run_functions_eagerly(True)\n",
    "model.compile(loss=\"categorical_crossentropy\", optimizer=opt,\n",
    "              metrics=[\"accuracy\"], run_eagerly=True)"
   ]
  },
  {
   "cell_type": "markdown",
   "metadata": {},
   "source": [
    "## Proses Pelatihan Model"
   ]
  },
  {
   "cell_type": "code",
   "execution_count": 23,
   "metadata": {},
   "outputs": [
    {
     "name": "stdout",
     "output_type": "stream",
     "text": [
      "[INFO] training...\n",
      "Epoch 1/40\n",
      "470/470 [==============================] - 218s 426ms/step - loss: 1.1043 - accuracy: 0.4191 - val_loss: 1.0229 - val_accuracy: 0.4322\n",
      "Epoch 2/40\n",
      "470/470 [==============================] - 201s 428ms/step - loss: 1.0039 - accuracy: 0.4809 - val_loss: 1.1840 - val_accuracy: 0.4153\n",
      "Epoch 3/40\n",
      "470/470 [==============================] - 201s 428ms/step - loss: 0.9610 - accuracy: 0.4979 - val_loss: 1.0563 - val_accuracy: 0.4322\n",
      "Epoch 4/40\n",
      "470/470 [==============================] - 201s 427ms/step - loss: 0.9582 - accuracy: 0.5149 - val_loss: 1.0702 - val_accuracy: 0.3644\n",
      "Epoch 5/40\n",
      "470/470 [==============================] - 201s 428ms/step - loss: 0.9465 - accuracy: 0.5191 - val_loss: 1.0571 - val_accuracy: 0.5339\n",
      "Epoch 6/40\n",
      "470/470 [==============================] - 201s 428ms/step - loss: 0.9483 - accuracy: 0.4957 - val_loss: 1.0046 - val_accuracy: 0.5085\n",
      "Epoch 7/40\n",
      "470/470 [==============================] - 202s 429ms/step - loss: 0.9568 - accuracy: 0.4915 - val_loss: 1.1090 - val_accuracy: 0.4492\n",
      "Epoch 8/40\n",
      "470/470 [==============================] - 201s 428ms/step - loss: 0.9315 - accuracy: 0.5085 - val_loss: 1.1127 - val_accuracy: 0.4068\n",
      "Epoch 9/40\n",
      "470/470 [==============================] - 202s 430ms/step - loss: 0.9222 - accuracy: 0.5149 - val_loss: 1.0459 - val_accuracy: 0.4068\n",
      "Epoch 10/40\n",
      "470/470 [==============================] - 202s 429ms/step - loss: 0.9188 - accuracy: 0.5447 - val_loss: 1.0371 - val_accuracy: 0.4068\n",
      "Epoch 11/40\n",
      "470/470 [==============================] - 201s 428ms/step - loss: 0.8934 - accuracy: 0.5319 - val_loss: 1.0593 - val_accuracy: 0.4576\n",
      "Epoch 12/40\n",
      "470/470 [==============================] - 201s 429ms/step - loss: 0.9243 - accuracy: 0.5532 - val_loss: 1.0218 - val_accuracy: 0.4576\n",
      "Epoch 13/40\n",
      "470/470 [==============================] - 201s 428ms/step - loss: 0.9130 - accuracy: 0.5170 - val_loss: 1.0128 - val_accuracy: 0.5000\n",
      "Epoch 14/40\n",
      "470/470 [==============================] - 201s 429ms/step - loss: 0.8911 - accuracy: 0.5404 - val_loss: 1.0439 - val_accuracy: 0.4915\n",
      "Epoch 15/40\n",
      "470/470 [==============================] - 201s 429ms/step - loss: 0.8593 - accuracy: 0.5723 - val_loss: 1.3016 - val_accuracy: 0.3983\n",
      "Epoch 16/40\n",
      "470/470 [==============================] - 201s 427ms/step - loss: 0.9509 - accuracy: 0.5064 - val_loss: 1.0343 - val_accuracy: 0.4746\n",
      "Epoch 17/40\n",
      "470/470 [==============================] - 201s 428ms/step - loss: 0.8629 - accuracy: 0.5617 - val_loss: 1.0327 - val_accuracy: 0.5085\n",
      "Epoch 18/40\n",
      "470/470 [==============================] - 205s 435ms/step - loss: 0.8853 - accuracy: 0.5723 - val_loss: 1.0591 - val_accuracy: 0.4661\n",
      "Epoch 19/40\n",
      "470/470 [==============================] - 203s 433ms/step - loss: 0.8839 - accuracy: 0.5574 - val_loss: 1.0022 - val_accuracy: 0.5085\n",
      "Epoch 20/40\n",
      "470/470 [==============================] - 201s 428ms/step - loss: 0.8641 - accuracy: 0.5681 - val_loss: 1.0165 - val_accuracy: 0.4746\n",
      "Epoch 21/40\n",
      "470/470 [==============================] - 201s 429ms/step - loss: 0.8610 - accuracy: 0.5638 - val_loss: 1.0344 - val_accuracy: 0.4576\n",
      "Epoch 22/40\n",
      "470/470 [==============================] - 202s 430ms/step - loss: 0.8554 - accuracy: 0.6043 - val_loss: 0.9877 - val_accuracy: 0.5000\n",
      "Epoch 23/40\n",
      "470/470 [==============================] - 206s 439ms/step - loss: 0.8112 - accuracy: 0.5830 - val_loss: 1.0097 - val_accuracy: 0.4746\n",
      "Epoch 24/40\n",
      "470/470 [==============================] - 202s 430ms/step - loss: 0.8464 - accuracy: 0.5872 - val_loss: 1.0500 - val_accuracy: 0.5169\n",
      "Epoch 25/40\n",
      "470/470 [==============================] - 203s 431ms/step - loss: 0.8469 - accuracy: 0.5915 - val_loss: 0.9794 - val_accuracy: 0.4915\n",
      "Epoch 26/40\n",
      "470/470 [==============================] - 202s 429ms/step - loss: 0.8375 - accuracy: 0.5957 - val_loss: 1.0421 - val_accuracy: 0.5000\n",
      "Epoch 27/40\n",
      "470/470 [==============================] - 202s 430ms/step - loss: 0.8266 - accuracy: 0.5957 - val_loss: 1.0239 - val_accuracy: 0.4915\n",
      "Epoch 28/40\n",
      "470/470 [==============================] - 203s 431ms/step - loss: 0.7725 - accuracy: 0.6298 - val_loss: 1.0183 - val_accuracy: 0.3814\n",
      "Epoch 29/40\n",
      "470/470 [==============================] - 202s 431ms/step - loss: 0.7558 - accuracy: 0.6298 - val_loss: 1.0159 - val_accuracy: 0.5593\n",
      "Epoch 30/40\n",
      "470/470 [==============================] - 203s 431ms/step - loss: 0.7680 - accuracy: 0.6468 - val_loss: 1.0415 - val_accuracy: 0.4915\n",
      "Epoch 31/40\n",
      "470/470 [==============================] - 203s 432ms/step - loss: 0.8428 - accuracy: 0.6021 - val_loss: 1.0099 - val_accuracy: 0.5339\n",
      "Epoch 32/40\n",
      "470/470 [==============================] - 203s 431ms/step - loss: 0.7537 - accuracy: 0.6191 - val_loss: 0.9775 - val_accuracy: 0.5763\n",
      "Epoch 33/40\n",
      "470/470 [==============================] - 204s 433ms/step - loss: 0.7977 - accuracy: 0.6766 - val_loss: 0.9463 - val_accuracy: 0.5254\n",
      "Epoch 34/40\n",
      "470/470 [==============================] - 202s 430ms/step - loss: 0.7123 - accuracy: 0.6532 - val_loss: 0.9594 - val_accuracy: 0.5508\n",
      "Epoch 35/40\n",
      "470/470 [==============================] - 202s 430ms/step - loss: 0.6382 - accuracy: 0.7064 - val_loss: 0.9905 - val_accuracy: 0.5424\n",
      "Epoch 36/40\n",
      "470/470 [==============================] - 202s 429ms/step - loss: 0.6418 - accuracy: 0.7277 - val_loss: 0.9809 - val_accuracy: 0.5593\n",
      "Epoch 37/40\n",
      "470/470 [==============================] - 202s 430ms/step - loss: 0.7455 - accuracy: 0.6489 - val_loss: 0.9446 - val_accuracy: 0.5508\n",
      "Epoch 38/40\n",
      "470/470 [==============================] - 202s 430ms/step - loss: 0.6214 - accuracy: 0.7277 - val_loss: 0.9023 - val_accuracy: 0.5593\n",
      "Epoch 39/40\n",
      "470/470 [==============================] - 202s 429ms/step - loss: 0.5193 - accuracy: 0.7787 - val_loss: 1.2179 - val_accuracy: 0.6695\n",
      "Epoch 40/40\n",
      "470/470 [==============================] - 197s 419ms/step - loss: 0.5916 - accuracy: 0.7532 - val_loss: 0.9271 - val_accuracy: 0.6441\n"
     ]
    }
   ],
   "source": [
    "print(\"[INFO] training...\")\n",
    "H = model.fit(train_dataset,\n",
    "              validation_data=val_dataset,\n",
    "              batch_size=BS,\n",
    "              epochs=EPOCHS,\n",
    "              steps_per_epoch=train_num_batches,\n",
    "              validation_steps=val_num_batches,\n",
    "              validation_batch_size=BS,\n",
    "              verbose=1,\n",
    "              shuffle=False)"
   ]
  },
  {
   "cell_type": "markdown",
   "metadata": {},
   "source": [
    "## Uji Coba dan Evaluasi Model"
   ]
  },
  {
   "cell_type": "code",
   "execution_count": 24,
   "metadata": {},
   "outputs": [
    {
     "name": "stdout",
     "output_type": "stream",
     "text": [
      "[INFO] evaluating network...\n",
      "                 precision    recall  f1-score   support\n",
      "\n",
      " Long-survivors       0.65      0.73      0.69        49\n",
      "  Mid-survivors       1.00      0.32      0.49        34\n",
      "Short-survivors       0.56      0.83      0.67        35\n",
      "\n",
      "       accuracy                           0.64       118\n",
      "      macro avg       0.74      0.63      0.62       118\n",
      "   weighted avg       0.73      0.64      0.63       118\n",
      "\n",
      "Running time: 8116.1290237903595 s\n"
     ]
    }
   ],
   "source": [
    "# Buat prediksi pada set pengujian\n",
    "print(\"[INFO] evaluating network...\")\n",
    "predIdxs = model.predict(val_dataset, batch_size=BS)\n",
    "\n",
    "# Untuk setiap gambar dalam set pengujian kita perlu menemukan indeks file label dengan probabilitas prediksi terbesar yang sesuai\n",
    "predIdxsArgmax = np.argmax(predIdxs, axis=1)\n",
    "\n",
    "endtime = time.time()\n",
    "\n",
    "# Tampilkan classification report\n",
    "print(classification_report(y_test.argmax(axis=1), predIdxsArgmax, target_names=label_encoder.classes_))\n",
    "\n",
    "# Tampilkan running time\n",
    "print(\"Running time: {} s\".format(endtime - starttime))"
   ]
  },
  {
   "cell_type": "markdown",
   "metadata": {},
   "source": [
    "## Penyimpanan Model dan Visualisasi"
   ]
  },
  {
   "cell_type": "code",
   "execution_count": 25,
   "metadata": {},
   "outputs": [
    {
     "name": "stdout",
     "output_type": "stream",
     "text": [
      "[INFO] saving survival prediction model...\n"
     ]
    },
    {
     "data": {
      "image/png": "[encoded data removed]",
      "text/plain": [
       "<Figure size 640x480 with 1 Axes>"
      ]
     },
     "metadata": {},
     "output_type": "display_data"
    },
    {
     "data": {
      "image/png": "[encoded data removed]",
      "text/plain": [
       "<Figure size 640x480 with 1 Axes>"
      ]
     },
     "metadata": {},
     "output_type": "display_data"
    }
   ],
   "source": [
    "# Lakukan penyimpanan model\n",
    "print(\"[INFO] saving survival prediction model...\")\n",
    "model.save(model_path, save_format=\"h5\")  # Save dalam format .h5\n",
    "\n",
    "# Munculkan hasil klasifikasi dan kompilasi dari pelatihan data\n",
    "epochs_range = range(EPOCHS)\n",
    "plt.style.use(\"ggplot\")\n",
    "plt.figure()\n",
    "plt.plot(epochs_range, H.history[\"accuracy\"], label=\"train_acc\")\n",
    "plt.plot(epochs_range, H.history[\"val_accuracy\"], label=\"val_acc\")\n",
    "plt.legend(loc='lower left')\n",
    "plt.title('Training and Validation Accuracy')\n",
    "plt.xlabel(\"Epoch\")\n",
    "plt.ylabel(\"Accuracy\")\n",
    "plt.show()\n",
    "\n",
    "plt.style.use(\"ggplot\")\n",
    "plt.figure()\n",
    "plt.plot(epochs_range, H.history[\"loss\"], label=\"train_loss\")\n",
    "plt.plot(epochs_range, H.history[\"val_loss\"], label=\"val_loss\")\n",
    "plt.legend(loc=\"lower left\")\n",
    "plt.title(\"Training and Validation Loss\")\n",
    "plt.xlabel(\"Epoch\")\n",
    "plt.ylabel(\"Loss\")\n",
    "plt.show()"
   ]
  },
  {
   "cell_type": "code",
   "execution_count": null,
   "metadata": {},
   "outputs": [],
   "source": []
  }
 ],
 "metadata": {
  "kernelspec": {
   "display_name": "Python 3 (ipykernel)",
   "language": "python",
   "name": "python3"
  },
  "language_info": {
   "codemirror_mode": {
    "name": "ipython",
    "version": 3
   },
   "file_extension": ".py",
   "mimetype": "text/x-python",
   "name": "python",
   "nbconvert_exporter": "python",
   "pygments_lexer": "ipython3",
   "version": "3.10.13"
  }
 },
 "nbformat": 4,
 "nbformat_minor": 4
}
